{
  "nbformat": 4,
  "nbformat_minor": 0,
  "metadata": {
    "colab": {
      "name": "trainer.ipynb",
      "provenance": [],
      "authorship_tag": "ABX9TyMcl5PfGHh2+H5/E9nhhtHA",
      "include_colab_link": true
    },
    "kernelspec": {
      "name": "python3",
      "display_name": "Python 3"
    },
    "language_info": {
      "name": "python"
    },
    "accelerator": "GPU"
  },
  "cells": [
    {
      "cell_type": "markdown",
      "metadata": {
        "id": "view-in-github",
        "colab_type": "text"
      },
      "source": [
        "<a href=\"https://colab.research.google.com/github/lephuocdat2000/Train-deploy-image-recognition/blob/main/trainer.ipynb\" target=\"_parent\"><img src=\"https://colab.research.google.com/assets/colab-badge.svg\" alt=\"Open In Colab\"/></a>"
      ]
    },
    {
      "cell_type": "code",
      "metadata": {
        "colab": {
          "base_uri": "https://localhost:8080/"
        },
        "id": "B1ccRfLPZelx",
        "outputId": "23c5276d-50e1-496f-911f-ff0ef223187e"
      },
      "source": [
        "from google.colab import drive\n",
        "drive.mount('/content/gdrive')"
      ],
      "execution_count": 1,
      "outputs": [
        {
          "output_type": "stream",
          "text": [
            "Mounted at /content/gdrive\n"
          ],
          "name": "stdout"
        }
      ]
    },
    {
      "cell_type": "code",
      "metadata": {
        "colab": {
          "base_uri": "https://localhost:8080/"
        },
        "id": "Dh_ppmnjZt07",
        "outputId": "076c930e-6424-44f8-b8ee-bd31ee6d5688"
      },
      "source": [
        "cd /content/gdrive/MyDrive/Train and deploy model Udemy"
      ],
      "execution_count": 2,
      "outputs": [
        {
          "output_type": "stream",
          "text": [
            "/content/gdrive/MyDrive/Train and deploy model Udemy\n"
          ],
          "name": "stdout"
        }
      ]
    },
    {
      "cell_type": "code",
      "metadata": {
        "colab": {
          "base_uri": "https://localhost:8080/"
        },
        "id": "ixUwS5HdaHa7",
        "outputId": "8dce8791-cbad-4ce6-af5d-3c3833ee2cf8"
      },
      "source": [
        "from tensorflow.keras.preprocessing.image import ImageDataGenerator\n",
        "from tensorflow.keras.applications import InceptionV3\n",
        "from tensorflow.keras.layers import Dropout, Flatten, Dense, Input\n",
        "from tensorflow.keras.models import Model\n",
        "from tensorflow.keras.optimizers import SGD, Adam\n",
        "\n",
        "import os\n",
        "import numpy as np\n",
        "\n",
        "from sklearn.metrics import classification_report,confusion_matrix\n",
        "\n",
        "def build_model(nbr_classes):\n",
        "  base_model = InceptionV3(weights='imagenet',include_top=False,input_tensor=Input(shape=(229,229,3)))\n",
        "  head_model = base_model.output\n",
        "  head_model = Flatten()(head_model)\n",
        "  head_model = Dense(512)(head_model)\n",
        "  head_model = Dropout(0.5)(head_model)\n",
        "  head_model = Dense(nbr_classes,activation=\"softmax\")(head_model)\n",
        "  model = Model(inputs = base_model.input,outputs=head_model)\n",
        "  #freeze \n",
        "  for layer in base_model.layers:\n",
        "    layer.trainable = False\n",
        "  return model\n",
        "\n",
        "def build_data_pipelines(batch_size,train_data_path,val_data_path,eval_data_path):\n",
        "  train_augmentor = ImageDataGenerator(\n",
        "      rescale = 1. / 255,\n",
        "      rotation_range = 25,\n",
        "      zoom_range = 0.15,\n",
        "      width_shift_range = 0.2,\n",
        "      height_shift_range = 0.2,\n",
        "      shear_range = 0.15,\n",
        "      horizontal_flip = True,\n",
        "      fill_mode = \"nearest\"\n",
        "  )\n",
        "  val_augmentor = ImageDataGenerator(\n",
        "      rescale = 1./255\n",
        "  )\n",
        "  train_generator = train_augmentor.flow_from_directory(\n",
        "      train_data_path,\n",
        "      class_mode = \"categorical\",\n",
        "      target_size=(229,229),\n",
        "      color_mode = \"rgb\",\n",
        "      shuffle = True,\n",
        "      batch_size = batch_size\n",
        "  )\n",
        "  val_generator = val_augmentor.flow_from_directory(\n",
        "      val_data_path,\n",
        "      class_mode = \"categorical\",\n",
        "      target_size=(229,229),\n",
        "      color_mode = \"rgb\",\n",
        "      shuffle = False,\n",
        "      batch_size = batch_size\n",
        "  )\n",
        "  eval_generator = val_augmentor.flow_from_directory(\n",
        "      eval_data_path,\n",
        "      class_mode = \"categorical\",\n",
        "      target_size=(229,229),\n",
        "      color_mode = \"rgb\",\n",
        "      shuffle = False,\n",
        "      batch_size = batch_size\n",
        "  )\n",
        "  return train_generator, val_generator, eval_generator\n",
        "\n",
        "def get_number_of_imgs_inside_folder(directory):\n",
        "  totalcount=0\n",
        "  for root,dirnames,filenames in os.walk(directory):\n",
        "    for filename in filenames:\n",
        "       _,ext = os.path.splitext(filename)\n",
        "       if ext in [\".jpg\",\".png\",\".jpeg\"]:\n",
        "          totalcount +=1\n",
        "  return totalcount \n",
        "\n",
        "def train(path_to_data,batch_size,epochs):\n",
        "  path_train_data = os.path.join(path_to_data,'training')\n",
        "  path_val_data = os.path.join(path_to_data,'validation')\n",
        "  path_eval_data = os.path.join(path_to_data,'evaluation')\n",
        "\n",
        "  total_train_imgs = get_number_of_imgs_inside_folder(path_train_data)\n",
        "  total_val_imgs = get_number_of_imgs_inside_folder(path_val_data)\n",
        "  total_eval_imgs = get_number_of_imgs_inside_folder(path_eval_data)\n",
        "\n",
        "  train_generator, val_generator, eval_generator = build_data_pipelines(\n",
        "      batch_size = batch_size,\n",
        "      train_data_path = path_train_data,\n",
        "      val_data_path = path_val_data,\n",
        "      eval_data_path = path_eval_data,\n",
        "  )\n",
        "  classes_dict = train_generator.class_indices #dictionary of name and corresponding label\n",
        "  model = build_model(nbr_classes = len(classes_dict.keys()))\n",
        "  optimizer = Adam(lr=1e-5)\n",
        "  model.compile(loss='categorical_crossentropy',optimizer=optimizer,metrics=['accuracy'])\n",
        "  model.fit(\n",
        "      train_generator,\n",
        "      steps_per_epoch = total_train_imgs//batch_size,\n",
        "      validation_data = val_generator,\n",
        "      validation_steps = total_val_imgs//batch_size,\n",
        "      epochs = epochs\n",
        "  )\n",
        "\n",
        "  print(\"[INFO] Evaluation phase...\")\n",
        "  \n",
        "  predictions = model.predict(eval_generator)\n",
        "  prdictions_idxs = np.argmax(predictions, axis=1) \n",
        "\n",
        "  my_classification_report = classification_report(eval_generator.classes,predictions_idxs,\n",
        "                                                   target_names = eval_generator.classes_indices.keys())\n",
        "  my_confusion_matrix = confusion_matrix(eval_generator.classes,predictions_idxs)\n",
        "  \n",
        "  print(\"[INFO] Classification report: \")\n",
        "  print(my_classification_report)\n",
        "  print(\"[INFO] Confusion matrix: \")\n",
        "  print(my_confusion_matrix)\n",
        "  \n",
        "\n",
        "path_to_data = '/content/gdrive/MyDrive/Train and deploy model Udemy/food-11'\n",
        "train(path_to_data,2,1)"
      ],
      "execution_count": null,
      "outputs": [
        {
          "output_type": "stream",
          "text": [
            "Found 9866 images belonging to 11 classes.\n",
            "Found 3430 images belonging to 11 classes.\n",
            "Found 3347 images belonging to 11 classes.\n",
            "Downloading data from https://storage.googleapis.com/tensorflow/keras-applications/inception_v3/inception_v3_weights_tf_dim_ordering_tf_kernels_notop.h5\n",
            "87916544/87910968 [==============================] - 1s 0us/step\n",
            "87924736/87910968 [==============================] - 1s 0us/step\n"
          ],
          "name": "stdout"
        },
        {
          "output_type": "stream",
          "text": [
            "/usr/local/lib/python3.7/dist-packages/keras/optimizer_v2/optimizer_v2.py:356: UserWarning: The `lr` argument is deprecated, use `learning_rate` instead.\n",
            "  \"The `lr` argument is deprecated, use `learning_rate` instead.\")\n"
          ],
          "name": "stderr"
        },
        {
          "output_type": "stream",
          "text": [
            "4933/4933 [==============================] - ETA: 0s - loss: 2.8323 - accuracy: 0.6025"
          ],
          "name": "stdout"
        }
      ]
    },
    {
      "cell_type": "code",
      "metadata": {
        "id": "QgIjx_X4iUe2"
      },
      "source": [
        ""
      ],
      "execution_count": null,
      "outputs": []
    }
  ]
}